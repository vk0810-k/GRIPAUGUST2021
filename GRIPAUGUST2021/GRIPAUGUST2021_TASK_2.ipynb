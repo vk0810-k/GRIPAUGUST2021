{
  "nbformat": 4,
  "nbformat_minor": 0,
  "metadata": {
    "colab": {
      "name": "GRIPAUGUST2021_TASK_2.ipynb",
      "provenance": [],
      "authorship_tag": "ABX9TyOpAaLLG+fr+0Pcg42mR7e8",
      "include_colab_link": true
    },
    "kernelspec": {
      "name": "python3",
      "display_name": "Python 3"
    },
    "language_info": {
      "name": "python"
    }
  },
  "cells": [
    {
      "cell_type": "markdown",
      "metadata": {
        "id": "view-in-github",
        "colab_type": "text"
      },
      "source": [
        "<a href=\"https://colab.research.google.com/github/vk0810-k/The-Sparks-Foundation-Codes/blob/main/GRIPAUGUST2021/GRIPAUGUST2021_TASK_2.ipynb\" target=\"_parent\"><img src=\"https://colab.research.google.com/assets/colab-badge.svg\" alt=\"Open In Colab\"/></a>"
      ]
    },
    {
      "cell_type": "markdown",
      "metadata": {
        "id": "YA-xSD9hElEY"
      },
      "source": [
        "# **The Sparks Foundation**\n",
        "# **GRIPAUGUST2021**\n",
        "# **Name: Varun Mahendra Khadayate**\n",
        "# **Data Science & Business Analytics Intern**\n",
        "# **Task 2:Prediction using Unsupervised ML**\n",
        "# **Task Description:From the given ‘Iris’ dataset, predict the optimum number of clusters and represent it visually.**"
      ]
    },
    {
      "cell_type": "markdown",
      "metadata": {
        "id": "4Ef4O2HKFRiO"
      },
      "source": [
        "*Lets Begin then!*"
      ]
    },
    {
      "cell_type": "markdown",
      "metadata": {
        "id": "BrTbzSCPD5Xg"
      },
      "source": [
        "*Lets import important libraries first!*"
      ]
    },
    {
      "cell_type": "code",
      "metadata": {
        "id": "WhQtJxJ3Drms",
        "colab": {
          "base_uri": "https://localhost:8080/"
        },
        "outputId": "da8276d5-7e09-4450-822c-b0bf87cdb2db"
      },
      "source": [
        "import pandas as pd\n",
        "import numpy as np\n",
        "import matplotlib.pyplot as plt\n",
        "from sklearn import datasets\n",
        "print(\"The libraries are imported!\")"
      ],
      "execution_count": null,
      "outputs": [
        {
          "output_type": "stream",
          "text": [
            "The libraries are imported!\n"
          ],
          "name": "stdout"
        }
      ]
    },
    {
      "cell_type": "markdown",
      "metadata": {
        "id": "vRZU0f0vFVm9"
      },
      "source": [
        "*Lets import the dataset now!*"
      ]
    },
    {
      "cell_type": "code",
      "metadata": {
        "colab": {
          "base_uri": "https://localhost:8080/",
          "height": 206
        },
        "id": "1t4EOcLRFN6X",
        "outputId": "ebdb89dc-bb99-44b0-f507-d6ba6941861b"
      },
      "source": [
        "iris = datasets.load_iris()\n",
        "iris_df = pd.DataFrame(iris.data, columns = iris.feature_names)\n",
        "iris_df.head() "
      ],
      "execution_count": null,
      "outputs": [
        {
          "output_type": "execute_result",
          "data": {
            "text/html": [
              "<div>\n",
              "<style scoped>\n",
              "    .dataframe tbody tr th:only-of-type {\n",
              "        vertical-align: middle;\n",
              "    }\n",
              "\n",
              "    .dataframe tbody tr th {\n",
              "        vertical-align: top;\n",
              "    }\n",
              "\n",
              "    .dataframe thead th {\n",
              "        text-align: right;\n",
              "    }\n",
              "</style>\n",
              "<table border=\"1\" class=\"dataframe\">\n",
              "  <thead>\n",
              "    <tr style=\"text-align: right;\">\n",
              "      <th></th>\n",
              "      <th>sepal length (cm)</th>\n",
              "      <th>sepal width (cm)</th>\n",
              "      <th>petal length (cm)</th>\n",
              "      <th>petal width (cm)</th>\n",
              "    </tr>\n",
              "  </thead>\n",
              "  <tbody>\n",
              "    <tr>\n",
              "      <th>0</th>\n",
              "      <td>5.1</td>\n",
              "      <td>3.5</td>\n",
              "      <td>1.4</td>\n",
              "      <td>0.2</td>\n",
              "    </tr>\n",
              "    <tr>\n",
              "      <th>1</th>\n",
              "      <td>4.9</td>\n",
              "      <td>3.0</td>\n",
              "      <td>1.4</td>\n",
              "      <td>0.2</td>\n",
              "    </tr>\n",
              "    <tr>\n",
              "      <th>2</th>\n",
              "      <td>4.7</td>\n",
              "      <td>3.2</td>\n",
              "      <td>1.3</td>\n",
              "      <td>0.2</td>\n",
              "    </tr>\n",
              "    <tr>\n",
              "      <th>3</th>\n",
              "      <td>4.6</td>\n",
              "      <td>3.1</td>\n",
              "      <td>1.5</td>\n",
              "      <td>0.2</td>\n",
              "    </tr>\n",
              "    <tr>\n",
              "      <th>4</th>\n",
              "      <td>5.0</td>\n",
              "      <td>3.6</td>\n",
              "      <td>1.4</td>\n",
              "      <td>0.2</td>\n",
              "    </tr>\n",
              "  </tbody>\n",
              "</table>\n",
              "</div>"
            ],
            "text/plain": [
              "   sepal length (cm)  sepal width (cm)  petal length (cm)  petal width (cm)\n",
              "0                5.1               3.5                1.4               0.2\n",
              "1                4.9               3.0                1.4               0.2\n",
              "2                4.7               3.2                1.3               0.2\n",
              "3                4.6               3.1                1.5               0.2\n",
              "4                5.0               3.6                1.4               0.2"
            ]
          },
          "metadata": {
            "tags": []
          },
          "execution_count": 17
        }
      ]
    },
    {
      "cell_type": "markdown",
      "metadata": {
        "id": "RtGYq27xFZ7-"
      },
      "source": [
        "*Finding the optimum number of clusters for K Means? How does one  determine the value of K?*\n",
        "\n",
        "*Finding the optimum number of clusters for k-means classification*"
      ]
    },
    {
      "cell_type": "code",
      "metadata": {
        "id": "tNSln9sJFqPS",
        "colab": {
          "base_uri": "https://localhost:8080/",
          "height": 295
        },
        "outputId": "1649679e-c81c-4520-b5d1-a69837c66f5c"
      },
      "source": [
        "x = iris_df.iloc[:, [0, 1, 2, 3]].values\n",
        "\n",
        "from sklearn.cluster import KMeans\n",
        "wcss = []\n",
        "\n",
        "for i in range(1, 11):\n",
        "    kmeans = KMeans(n_clusters = i, init = 'k-means++', \n",
        "                    max_iter = 300, n_init = 10, random_state = 0)\n",
        "    kmeans.fit(x)\n",
        "    wcss.append(kmeans.inertia_)\n",
        "\n",
        "#Plotting the results onto a line graph, allowing us to observe 'The elbow'\n",
        "\n",
        "plt.plot(range(1, 11), wcss)\n",
        "plt.title('The elbow method')\n",
        "plt.xlabel('Number of clusters')\n",
        "plt.ylabel('WCSS')\n",
        "plt.show()"
      ],
      "execution_count": null,
      "outputs": [
        {
          "output_type": "display_data",
          "data": {
            "image/png": "[encoded data removed]",
            "text/plain": [
              "<Figure size 432x288 with 1 Axes>"
            ]
          },
          "metadata": {
            "tags": [],
            "needs_background": "light"
          }
        }
      ]
    },
    {
      "cell_type": "markdown",
      "metadata": {
        "id": "Yffz8jviGBtt"
      },
      "source": [
        "*Applying kmeans to the dataset / Creating the kmeans classifier*"
      ]
    },
    {
      "cell_type": "code",
      "metadata": {
        "id": "tPONAQ0iGD90",
        "colab": {
          "base_uri": "https://localhost:8080/"
        },
        "outputId": "a847d92e-5954-4baf-8195-90a2ee45b7d0"
      },
      "source": [
        "kmeans = KMeans(n_clusters = 3, init = 'k-means++',\n",
        "                max_iter = 300, n_init = 10, random_state = 0)\n",
        "y_kmeans = kmeans.fit_predict(x)\n",
        "print(\"The kmeans classifier has been created!\")"
      ],
      "execution_count": null,
      "outputs": [
        {
          "output_type": "stream",
          "text": [
            "The kmeans classifier has been created!\n"
          ],
          "name": "stdout"
        }
      ]
    },
    {
      "cell_type": "markdown",
      "metadata": {
        "id": "YmIIQzldGF6M"
      },
      "source": [
        "**Visualization**"
      ]
    },
    {
      "cell_type": "markdown",
      "metadata": {
        "id": "_oFelOV5GMuv"
      },
      "source": [
        "*Visualising the clusters - On the first two columns*"
      ]
    },
    {
      "cell_type": "code",
      "metadata": {
        "colab": {
          "base_uri": "https://localhost:8080/",
          "height": 268
        },
        "id": "fYC3nGX6GHHV",
        "outputId": "183b2146-e72c-498b-bcdc-92adf758e353"
      },
      "source": [
        "plt.scatter(x[y_kmeans == 0, 0], x[y_kmeans == 0, 1], s = 100, c = 'red', label = 'Iris-setosa')\n",
        "plt.scatter(x[y_kmeans == 1, 0], x[y_kmeans == 1, 1], s = 100, c = 'blue', label = 'Iris-versicolour')\n",
        "plt.scatter(x[y_kmeans == 2, 0], x[y_kmeans == 2, 1], s = 100, c = 'green', label = 'Iris-virginica')\n",
        "\n",
        "#Plotting the centroids of the clusters\n",
        "\n",
        "plt.scatter(kmeans.cluster_centers_[:, 0], kmeans.cluster_centers_[:,1], \n",
        "            s = 100, c = 'yellow', label = 'Centroids')\n",
        "\n",
        "plt.legend(loc='upper right')\n",
        "plt.grid()"
      ],
      "execution_count": null,
      "outputs": [
        {
          "output_type": "display_data",
          "data": {
            "image/png": "[encoded data removed]",
            "text/plain": [
              "<Figure size 432x288 with 1 Axes>"
            ]
          },
          "metadata": {
            "tags": [],
            "needs_background": "light"
          }
        }
      ]
    },
    {
      "cell_type": "markdown",
      "metadata": {
        "id": "n0CpoPX5Lgiu"
      },
      "source": [
        "# **Thank You**"
      ]
    }
  ]
}