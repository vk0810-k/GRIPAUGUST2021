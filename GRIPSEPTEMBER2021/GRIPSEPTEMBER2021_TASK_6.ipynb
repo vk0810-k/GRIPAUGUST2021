{
  "nbformat": 4,
  "nbformat_minor": 0,
  "metadata": {
    "colab": {
      "name": "GRIPSEPTEMBER2021_TASK_6.ipynb",
      "provenance": [],
      "authorship_tag": "ABX9TyN6AAbyHqINpGIL0XFcDfce",
      "include_colab_link": true
    },
    "kernelspec": {
      "name": "python3",
      "display_name": "Python 3"
    },
    "language_info": {
      "name": "python"
    }
  },
  "cells": [
    {
      "cell_type": "markdown",
      "metadata": {
        "id": "view-in-github",
        "colab_type": "text"
      },
      "source": [
        "<a href=\"https://colab.research.google.com/github/vk0810-k/The-Sparks-Foundation-Codes/blob/main/GRIPSEPTEMBER2021/GRIPSEPTEMBER2021_TASK_6.ipynb\" target=\"_parent\"><img src=\"https://colab.research.google.com/assets/colab-badge.svg\" alt=\"Open In Colab\"/></a>"
      ]
    },
    {
      "cell_type": "code",
      "metadata": {
        "id": "4tdHmsDsnwjc"
      },
      "source": [
        ""
      ],
      "execution_count": null,
      "outputs": []
    }
  ]
}